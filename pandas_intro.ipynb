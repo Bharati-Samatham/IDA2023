{
 "cells": [
  {
   "cell_type": "markdown",
   "id": "086a60d3-b506-45ad-be52-c579cbc4813d",
   "metadata": {},
   "source": [
    "# Python Example"
   ]
  },
  {
   "cell_type": "markdown",
   "id": "e87d985b-2732-4263-955c-ae7c38c985c7",
   "metadata": {},
   "source": [
    "### Hello"
   ]
  },
  {
   "cell_type": "code",
   "execution_count": 2,
   "id": "f1b3a293-6bcf-43eb-9bbb-a11400423033",
   "metadata": {},
   "outputs": [
    {
     "name": "stdout",
     "output_type": "stream",
     "text": [
      "Hello World\n"
     ]
    }
   ],
   "source": [
    "print(\"Hello World\")"
   ]
  },
  {
   "cell_type": "code",
   "execution_count": 5,
   "id": "76036bde-91d7-4046-a813-581fb38075ca",
   "metadata": {},
   "outputs": [
    {
     "name": "stdout",
     "output_type": "stream",
     "text": [
      "hai\n"
     ]
    }
   ],
   "source": [
    "print(\"hai\")"
   ]
  },
  {
   "cell_type": "code",
   "execution_count": null,
   "id": "c7bbc56b-e6fb-4f83-9b31-b4384737e9b7",
   "metadata": {},
   "outputs": [],
   "source": []
  }
 ],
 "metadata": {
  "kernelspec": {
   "display_name": "Python 3 (ipykernel)",
   "language": "python",
   "name": "python3"
  },
  "language_info": {
   "codemirror_mode": {
    "name": "ipython",
    "version": 3
   },
   "file_extension": ".py",
   "mimetype": "text/x-python",
   "name": "python",
   "nbconvert_exporter": "python",
   "pygments_lexer": "ipython3",
   "version": "3.11.5"
  }
 },
 "nbformat": 4,
 "nbformat_minor": 5
}
